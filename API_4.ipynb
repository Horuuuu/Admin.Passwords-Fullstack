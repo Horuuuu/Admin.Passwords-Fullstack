{
  "nbformat": 4,
  "nbformat_minor": 0,
  "metadata": {
    "colab": {
      "provenance": [],
      "authorship_tag": "ABX9TyMnhf5w0h5eo+Yatl+atKfC",
      "include_colab_link": true
    },
    "kernelspec": {
      "name": "python3",
      "display_name": "Python 3"
    },
    "language_info": {
      "name": "python"
    }
  },
  "cells": [
    {
      "cell_type": "markdown",
      "metadata": {
        "id": "view-in-github",
        "colab_type": "text"
      },
      "source": [
        "<a href=\"https://colab.research.google.com/github/Horuuuu/Admin.Passwords-Fullstack/blob/main/API_4.ipynb\" target=\"_parent\"><img src=\"https://colab.research.google.com/assets/colab-badge.svg\" alt=\"Open In Colab\"/></a>"
      ]
    },
    {
      "cell_type": "code",
      "execution_count": null,
      "metadata": {
        "id": "_WeJ1nNvld3r"
      },
      "outputs": [],
      "source": [
        "#información de la foto del stock del día anterior:"
      ]
    },
    {
      "cell_type": "code",
      "source": [
        "from pyspark.sql import SparkSession\n",
        "from pyspark.sql.functions import col, max"
      ],
      "metadata": {
        "id": "0FFN4lYsl4aj"
      },
      "execution_count": null,
      "outputs": []
    },
    {
      "cell_type": "code",
      "source": [
        "spark = SparkSession.builder.appName(\"ConsultaStockDiaAnterior\").getOrCreate()"
      ],
      "metadata": {
        "id": "gsTTfJOTl-OW"
      },
      "execution_count": null,
      "outputs": []
    },
    {
      "cell_type": "code",
      "source": [
        "# Cargar los DataFrames correspondientes a las tablas Link_MNdStockFisico_MNDArticulos y SAT_MNdStockFisico\n",
        "lmDF = spark.read.table(\"Link_MNdStockFisico_MNDArticulos\")\n",
        "ssDF = spark.read.table(\"SAT_MNdStockFisico\")"
      ],
      "metadata": {
        "id": "soKIJpEBmDLn"
      },
      "execution_count": null,
      "outputs": []
    },
    {
      "cell_type": "code",
      "source": [
        "# Registrar las tablas como vistas temporales\n",
        "lmDF.createOrReplaceTempView(\"lm\")\n",
        "ssDF.createOrReplaceTempView(\"ss\")"
      ],
      "metadata": {
        "id": "qrzYFHM0mKLf"
      },
      "execution_count": null,
      "outputs": []
    },
    {
      "cell_type": "code",
      "source": [
        "# Consulta SQL para obtener la foto del stock del día anterior\n",
        "resultDF = spark.sql(\"\"\"\n",
        "    SELECT\n",
        "        lm.idStock,\n",
        "        lm.Id AS idArticulo,\n",
        "        ss.idStock AS idStockDiaAnterior,\n",
        "        ss.Usuario AS usuarioStockDiaAnterior,\n",
        "        ss.Terminal AS terminalStockDiaAnterior,\n",
        "        ss.TS AS fechaStockDiaAnterior\n",
        "    FROM\n",
        "        lm\n",
        "    INNER JOIN\n",
        "        ss\n",
        "    ON\n",
        "        lm.idStock = ss.idStock\n",
        "    WHERE\n",
        "        ss.TS = (SELECT MAX(TS) FROM ss WHERE idStock = lm.idStock AND TS < CURRENT_DATE)\n",
        "\"\"\")\n"
      ],
      "metadata": {
        "id": "a0lLDo5umNAz"
      },
      "execution_count": null,
      "outputs": []
    },
    {
      "cell_type": "code",
      "source": [
        "# Mostrar el resultado\n",
        "resultDF.show()"
      ],
      "metadata": {
        "id": "rmlIFGZFmQ3z"
      },
      "execution_count": null,
      "outputs": []
    },
    {
      "cell_type": "code",
      "source": [
        "# Detener la sesión de Spark\n",
        "spark.stop()"
      ],
      "metadata": {
        "id": "qU2mrWKNmTVn"
      },
      "execution_count": null,
      "outputs": []
    },
    {
      "cell_type": "code",
      "source": [
        "## para el datamart de información de proveedores:"
      ],
      "metadata": {
        "id": "TzK_k0KhmWo3"
      },
      "execution_count": null,
      "outputs": []
    },
    {
      "cell_type": "code",
      "source": [
        "from pyspark.sql import SparkSession"
      ],
      "metadata": {
        "id": "Zi-Bq_YvmcLf"
      },
      "execution_count": null,
      "outputs": []
    },
    {
      "cell_type": "code",
      "source": [
        "spark = SparkSession.builder.appName(\"DatamartProveedores\").getOrCreate()"
      ],
      "metadata": {
        "id": "GPH2RzBBme2M"
      },
      "execution_count": null,
      "outputs": []
    },
    {
      "cell_type": "code",
      "source": [
        "# Cargar los DataFrames correspondientes a las tablas Hub_MNDArticulos, SAT_MNDdTipoArticulos y SAT_MNDdTipoArticulosDesc\n",
        "maDF = spark.read.table(\"Hub_MNDArticulos\")\n",
        "smtDF = spark.read.table(\"SAT_MNDdTipoArticulos\")\n",
        "smpDF = spark.read.table(\"SAT_MNDdTipoArticulosDesc\")"
      ],
      "metadata": {
        "id": "67txe7gBmhpo"
      },
      "execution_count": null,
      "outputs": []
    },
    {
      "cell_type": "code",
      "source": [
        "# Registrar las tablas como vistas temporales\n",
        "maDF.createOrReplaceTempView(\"ma\")\n",
        "smtDF.createOrReplaceTempView(\"smt\")\n",
        "smpDF.createOrReplaceTempView(\"smp\")"
      ],
      "metadata": {
        "id": "adI52kOAmptC"
      },
      "execution_count": null,
      "outputs": []
    },
    {
      "cell_type": "code",
      "source": [
        "# Consulta SQL para obtener la información de los proveedores\n",
        "resultDF = spark.sql(\"\"\"\n",
        "    SELECT\n",
        "        ma.Id AS idProveedor,\n",
        "        ma.Mna AS nombreProveedor,\n",
        "        smp.Descrip AS descripcionProveedor,\n",
        "        smt.TipoCotizacion AS tipoCotizacionProveedor,\n",
        "        smt.Terminal AS terminalProveedor,\n",
        "        smt.Usuario AS usuarioProveedor,\n",
        "        smt.Ts AS fechaActualizacionProveedor\n",
        "    FROM\n",
        "        ma\n",
        "    LEFT JOIN\n",
        "        smt\n",
        "    ON\n",
        "        ma.Mna = smt.Mna\n",
        "    LEFT JOIN\n",
        "        smp\n",
        "    ON\n",
        "        smt.TipoCotizacion = smp.TipoCotizacion\n",
        "\"\"\")\n"
      ],
      "metadata": {
        "id": "PjgNzkaCmsHc"
      },
      "execution_count": null,
      "outputs": []
    },
    {
      "cell_type": "code",
      "source": [
        "# Mostrar el resultado\n",
        "resultDF.show()"
      ],
      "metadata": {
        "id": "S3AXfBAHmvb2"
      },
      "execution_count": null,
      "outputs": []
    },
    {
      "cell_type": "code",
      "source": [
        "# Detener la sesión de Spark\n",
        "spark.stop()"
      ],
      "metadata": {
        "id": "wSZNRAS-myOI"
      },
      "execution_count": null,
      "outputs": []
    },
    {
      "cell_type": "code",
      "source": [
        "###para el datamart de datos de escaneo de productos:"
      ],
      "metadata": {
        "id": "0hE-SNgmm1C-"
      },
      "execution_count": null,
      "outputs": []
    },
    {
      "cell_type": "code",
      "source": [
        "from pyspark.sql import SparkSession"
      ],
      "metadata": {
        "id": "HpY1Eevdm5f1"
      },
      "execution_count": null,
      "outputs": []
    },
    {
      "cell_type": "code",
      "source": [
        "spark = SparkSession.builder.appName(\"DatamartEscaneoProductos\").getOrCreate()"
      ],
      "metadata": {
        "id": "lFeQPT5qm84B"
      },
      "execution_count": null,
      "outputs": []
    },
    {
      "cell_type": "code",
      "source": [
        "# Cargar los DataFrames correspondientes a las tablas Link_MNdStockFisico_MNDArticulos y SAT_MNdStockFisico\n",
        "lmDF = spark.read.table(\"Link_MNdStockFisico_MNDArticulos\")\n",
        "ssDF = spark.read.table(\"SAT_MNdStockFisico\")"
      ],
      "metadata": {
        "id": "LsdvyQuenDUy"
      },
      "execution_count": null,
      "outputs": []
    },
    {
      "cell_type": "code",
      "source": [
        "# Registrar las tablas como vistas temporales\n",
        "lmDF.createOrReplaceTempView(\"lm\")\n",
        "ssDF.createOrReplaceTempView(\"ss\")"
      ],
      "metadata": {
        "id": "BebuyRiKnHOo"
      },
      "execution_count": null,
      "outputs": []
    },
    {
      "cell_type": "code",
      "source": [
        "# Consulta SQL para obtener los datos de escaneo de productos\n",
        "resultDF = spark.sql(\"\"\"\n",
        "    SELECT\n",
        "        lm.idStock,\n",
        "        lm.Id AS idArticulo,\n",
        "        ss.idStock AS idStockEscaneo,\n",
        "        ss.Usuario AS usuarioEscaneo,\n",
        "        ss.Terminal AS terminalEscaneo,\n",
        "        ss.TS AS fechaEscaneo\n",
        "    FROM\n",
        "        lm\n",
        "    INNER JOIN\n",
        "        ss\n",
        "    ON\n",
        "        lm.idStock = ss.idStock\n",
        "\"\"\")\n"
      ],
      "metadata": {
        "id": "xZSzFa0MnJba"
      },
      "execution_count": null,
      "outputs": []
    },
    {
      "cell_type": "code",
      "source": [
        "# Mostrar el resultado\n",
        "resultDF.show()"
      ],
      "metadata": {
        "id": "UxCvScB2nPMw"
      },
      "execution_count": null,
      "outputs": []
    },
    {
      "cell_type": "code",
      "source": [
        "# Detener la sesión de Spark\n",
        "spark.stop()"
      ],
      "metadata": {
        "id": "KU0yinawnP3N"
      },
      "execution_count": null,
      "outputs": []
    }
  ]
}